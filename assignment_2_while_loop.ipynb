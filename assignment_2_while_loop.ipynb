{
 "cells": [
  {
   "cell_type": "code",
   "execution_count": 239,
   "id": "d796caac",
   "metadata": {
    "scrolled": true
   },
   "outputs": [
    {
     "name": "stdout",
     "output_type": "stream",
     "text": [
      "1 \n",
      "2 2 \n",
      "3 3 3 \n",
      "4 4 4 4 \n",
      "5 5 5 5 5 \n"
     ]
    }
   ],
   "source": [
    "x = 5  #pattern_4\n",
    "i = 1\n",
    "while i <= x:\n",
    "    j = 1\n",
    "    while j <= i:\n",
    "        print(i, end=\" \")\n",
    "        j = j + 1\n",
    "    print()\n",
    "    i = i + 1"
   ]
  },
  {
   "cell_type": "code",
   "execution_count": 1,
   "id": "6c29e195",
   "metadata": {},
   "outputs": [
    {
     "name": "stdout",
     "output_type": "stream",
     "text": [
      "     1 \n",
      "    2 2 \n",
      "   3 3 3 \n",
      "  4 4 4 4 \n",
      " 5 5 5 5 5 \n"
     ]
    }
   ],
   "source": [
    "n=5                    #pattern_12\n",
    "i=1\n",
    "while i<=n:\n",
    "    print(\" \"*(n-i),end=\" \")\n",
    "    j=1\n",
    "    while j<=i:\n",
    "        print(i,end=\" \")\n",
    "        j=j+1\n",
    "    print()\n",
    "    i=i+1"
   ]
  },
  {
   "cell_type": "code",
   "execution_count": 6,
   "id": "3c1263d8",
   "metadata": {
    "scrolled": true
   },
   "outputs": [
    {
     "name": "stdout",
     "output_type": "stream",
     "text": [
      "5 \n",
      "5 4 \n",
      "5 4 3 \n",
      "5 4 3 2 \n",
      "5 4 3 2 1 \n"
     ]
    }
   ],
   "source": [
    "x=6               #pattern_16\n",
    "i=1\n",
    "while i<x:\n",
    "    j=1\n",
    "    while j<=i:\n",
    "        print((x-j),end=\" \")\n",
    "        j=j+1\n",
    "    print()\n",
    "    i=i+1"
   ]
  },
  {
   "cell_type": "code",
   "execution_count": 7,
   "id": "697e0557",
   "metadata": {},
   "outputs": [
    {
     "name": "stdout",
     "output_type": "stream",
     "text": [
      "\n",
      "1 \n",
      "1 2 \n",
      "1 2 3 \n",
      "1 2 3 4 \n",
      "1 2 3 4 5 \n"
     ]
    }
   ],
   "source": [
    "x=5                    #pattern_1\n",
    "i=0\n",
    "while i<=x:\n",
    "    j=1\n",
    "    while j<=i:\n",
    "        print((j),end=\" \")\n",
    "        j=j+1\n",
    "    print()\n",
    "    i=i+1"
   ]
  },
  {
   "cell_type": "code",
   "execution_count": 1,
   "id": "74106ea7",
   "metadata": {
    "scrolled": true
   },
   "outputs": [
    {
     "name": "stdout",
     "output_type": "stream",
     "text": [
      "         * \n",
      "       * * * \n",
      "     * * * * * \n",
      "   * * * * * * * \n",
      " * * * * * * * * * \n"
     ]
    }
   ],
   "source": [
    "n=10                  #pattern_9\n",
    "i = 0\n",
    "while i<n:\n",
    "    k=(n-i)\n",
    "    while k>1:\n",
    "        print(\" \", end=\"\")\n",
    "        k=k-1\n",
    "    j=i+1\n",
    "    while j>0:\n",
    "        print(\"*\", end=\" \")\n",
    "        j=j-1\n",
    "    print()\n",
    "    i=i+2"
   ]
  },
  {
   "cell_type": "code",
   "execution_count": 45,
   "id": "3000ed11",
   "metadata": {},
   "outputs": [
    {
     "name": "stdout",
     "output_type": "stream",
     "text": [
      "     *      \n",
      "    ***     \n",
      "   *****    \n",
      "  *******   \n",
      " *********  \n"
     ]
    }
   ],
   "source": [
    "n=9               #pattern_9\n",
    "i=1\n",
    "while i<=n:\n",
    "    v=str(i*\"*\")\n",
    "    print(v.center(12,\" \"))\n",
    "    i=i+2"
   ]
  },
  {
   "cell_type": "code",
   "execution_count": 48,
   "id": "7499b9d7",
   "metadata": {},
   "outputs": [
    {
     "name": "stdout",
     "output_type": "stream",
     "text": [
      " *********  \n",
      "  *******   \n",
      "   *****    \n",
      "    ***     \n",
      "     *      \n"
     ]
    }
   ],
   "source": [
    "n=1                          \n",
    "i=9\n",
    "while i>=n:\n",
    "    v=str(i*\"*\")\n",
    "    print(v.center(12,\" \"))\n",
    "    i=i-2"
   ]
  },
  {
   "cell_type": "code",
   "execution_count": 5,
   "id": "9fc19eaf",
   "metadata": {},
   "outputs": [
    {
     "name": "stdout",
     "output_type": "stream",
     "text": [
      "        1 \n",
      "       1 2 \n",
      "      1 2 3 \n",
      "     1 2 3 4 \n",
      "    1 2 3 4 5 \n"
     ]
    }
   ],
   "source": [
    "x=6           #pattern_7\n",
    "i=1\n",
    "while i<x:\n",
    "    k=(n-i)\n",
    "    while k>1:\n",
    "        print(\" \", end=\"\")\n",
    "        k=k-1\n",
    "    j=1\n",
    "    while j<=i:\n",
    "        print(j,end=\" \")\n",
    "        j=j+1\n",
    "    print()\n",
    "    i=i+1"
   ]
  },
  {
   "cell_type": "code",
   "execution_count": 87,
   "id": "d3b45fd9",
   "metadata": {
    "scrolled": true
   },
   "outputs": [
    {
     "name": "stdout",
     "output_type": "stream",
     "text": [
      "5 4 3 2 1 \n",
      "5 4 3 2 \n",
      "5 4 3 \n",
      "5 4 \n",
      "5 \n"
     ]
    }
   ],
   "source": [
    "n=5                    #pattern_15\n",
    "i=1\n",
    "while i<=n:\n",
    "    j=n\n",
    "    while j>=i:\n",
    "        print((j),end=\" \")\n",
    "        j=j-1\n",
    "    print()\n",
    "    i=i+1"
   ]
  },
  {
   "cell_type": "code",
   "execution_count": 102,
   "id": "1b9b22c6",
   "metadata": {},
   "outputs": [
    {
     "name": "stdout",
     "output_type": "stream",
     "text": [
      "1 2 3 4 5 \n",
      "1 2 3 4 \n",
      "1 2 3 \n",
      "1 2 \n",
      "1 \n",
      "\n"
     ]
    }
   ],
   "source": [
    "n=6                   #pattern_14\n",
    "i=1\n",
    "while i<=n:\n",
    "    j=n-1\n",
    "    while j>=i:\n",
    "        print((n-j),end=\" \")\n",
    "        j=j-1\n",
    "    print()\n",
    "    i=i+1"
   ]
  },
  {
   "cell_type": "code",
   "execution_count": 10,
   "id": "ceb48eca",
   "metadata": {},
   "outputs": [
    {
     "name": "stdout",
     "output_type": "stream",
     "text": [
      "      A \n",
      "     A B \n",
      "    A B C \n",
      "   A B C D \n",
      "  A B C D E \n"
     ]
    }
   ],
   "source": [
    "i=0               #pattern_9\n",
    "n=5\n",
    "while i<n:\n",
    "    print(\" \"*(n-i),end=\" \")\n",
    "    j=0\n",
    "    while j-1<i:\n",
    "        print(chr(65+j),end=\" \")\n",
    "        j=j+1\n",
    "    print()\n",
    "    i=i+1"
   ]
  },
  {
   "cell_type": "code",
   "execution_count": 11,
   "id": "687dc001",
   "metadata": {},
   "outputs": [
    {
     "name": "stdout",
     "output_type": "stream",
     "text": [
      "      A \n",
      "     B B \n",
      "    C C C \n",
      "   D D D D \n",
      "  E E E E E \n"
     ]
    }
   ],
   "source": [
    "i=0            #pattern_13\n",
    "n=5\n",
    "while i<n:\n",
    "    print(\" \"*(n-i),end=\" \")\n",
    "    j=0\n",
    "    while j-1<i:\n",
    "        print(chr(65+i),end=\" \")\n",
    "        j=j+1\n",
    "    print()\n",
    "    i=i+1"
   ]
  },
  {
   "cell_type": "code",
   "execution_count": 30,
   "id": "a5436603",
   "metadata": {},
   "outputs": [
    {
     "name": "stdout",
     "output_type": "stream",
     "text": [
      "A \n",
      "B B \n",
      "C C C \n",
      "D D D D \n",
      "E E E E E \n"
     ]
    }
   ],
   "source": [
    "i=1                          #pattern_5\n",
    "x=5\n",
    "while i<=x:\n",
    "    j=1\n",
    "    while j<=i:\n",
    "        print(chr(64+i),end=\" \")\n",
    "        j=j+1\n",
    "    print()\n",
    "    i=i+1"
   ]
  },
  {
   "cell_type": "code",
   "execution_count": 31,
   "id": "2a33179a",
   "metadata": {},
   "outputs": [
    {
     "name": "stdout",
     "output_type": "stream",
     "text": [
      "A \n",
      "A B \n",
      "A B C \n",
      "A B C D \n",
      "A B C D E \n"
     ]
    }
   ],
   "source": [
    "i=1                  #patten_2\n",
    "x=5\n",
    "while i<=x:\n",
    "    j=1\n",
    "    while j<=i:\n",
    "        print(chr(64+j),end=\" \")\n",
    "        j=j+1\n",
    "    print()\n",
    "    i=i+1"
   ]
  },
  {
   "cell_type": "code",
   "execution_count": 78,
   "id": "7ca9da70",
   "metadata": {},
   "outputs": [
    {
     "name": "stdout",
     "output_type": "stream",
     "text": [
      "      E \n",
      "     E D \n",
      "    E D C \n",
      "   E D C B \n",
      "  E D C B A \n"
     ]
    }
   ],
   "source": [
    "i=0\n",
    "n=5\n",
    "while i<n:\n",
    "    print(\" \"*(n-i),end=\" \")\n",
    "    j=0\n",
    "    while j-1<i:\n",
    "        print(chr(69-j),end=\" \")\n",
    "        j=j+1\n",
    "    print()\n",
    "    i=i+1"
   ]
  },
  {
   "cell_type": "code",
   "execution_count": 84,
   "id": "ba370528",
   "metadata": {},
   "outputs": [
    {
     "name": "stdout",
     "output_type": "stream",
     "text": [
      "A B C D E \n",
      "A B C D \n",
      "A B C \n",
      "A B \n",
      "A \n"
     ]
    }
   ],
   "source": [
    "n=5                         #pattern_18\n",
    "i=1\n",
    "while i<=n:\n",
    "    j=n\n",
    "    while j>=i:\n",
    "        print(chr(70-j),end=\" \")\n",
    "        j=j-1\n",
    "    print()\n",
    "    i=i+1"
   ]
  },
  {
   "cell_type": "code",
   "execution_count": 154,
   "id": "bd6ea48e",
   "metadata": {},
   "outputs": [
    {
     "name": "stdout",
     "output_type": "stream",
     "text": [
      "\n",
      "1 \n",
      "2 3 \n",
      "4 5 6 \n",
      "7 8 9 10 \n",
      "11 12 13 14 15 \n"
     ]
    }
   ],
   "source": [
    "n=6          #pattern_17\n",
    "i=1\n",
    "k=1\n",
    "while i<=n:\n",
    "    j=1\n",
    "    while j<i:\n",
    "        print(k,end=\" \")\n",
    "        j=j+1\n",
    "        k=k+1\n",
    "    print()\n",
    "    i=i+1"
   ]
  },
  {
   "cell_type": "code",
   "execution_count": 223,
   "id": "448b4dc5",
   "metadata": {},
   "outputs": [
    {
     "name": "stdout",
     "output_type": "stream",
     "text": [
      "* \n",
      "* * \n",
      "* * * \n",
      "* * * * \n"
     ]
    }
   ],
   "source": [
    "x=4           #pattern_3\n",
    "i=1\n",
    "while i<=x:\n",
    "    j=1\n",
    "    while j<=i:\n",
    "        print(\"*\",end=\" \")\n",
    "        j=j+1\n",
    "    print()\n",
    "    i=i+1"
   ]
  },
  {
   "cell_type": "code",
   "execution_count": 1,
   "id": "a762d700",
   "metadata": {},
   "outputs": [
    {
     "name": "stdout",
     "output_type": "stream",
     "text": [
      "         *\n",
      "       * *\n",
      "     * * *\n",
      "   * * * *\n"
     ]
    }
   ],
   "source": [
    "n=4             #pattern_4\n",
    "i = 0\n",
    "while i<n:\n",
    "    k=(n-i)\n",
    "    while k>0:\n",
    "        print(\"  \", end=\"\")\n",
    "        k=k-1\n",
    "    j=i+1\n",
    "    while j>0:\n",
    "        print(\" *\",end=\"\")\n",
    "        j=j-1\n",
    "    print()\n",
    "    i=i+1"
   ]
  },
  {
   "cell_type": "code",
   "execution_count": 12,
   "id": "55acbc60",
   "metadata": {},
   "outputs": [
    {
     "name": "stdout",
     "output_type": "stream",
     "text": [
      "     *\n",
      "    * *\n",
      "   *   *\n",
      "  *     *\n",
      " * * * * *\n"
     ]
    }
   ],
   "source": [
    "i=0       #pattern_25\n",
    "n=5\n",
    "while i<5:\n",
    "    if i==0:\n",
    "        print(\" \"*(n-i)+\"*\")\n",
    "    elif i==4:\n",
    "        print(\" *\"*(i+1))\n",
    "    else:\n",
    "        print(\" \"*(4-i)+\" *\"+\" \"*((i*2)-1)+\"*\")\n",
    "    i=i+1\n",
    "        "
   ]
  },
  {
   "cell_type": "code",
   "execution_count": 222,
   "id": "14d53fee",
   "metadata": {},
   "outputs": [
    {
     "name": "stdout",
     "output_type": "stream",
     "text": [
      " * * * * *\n",
      "  *     *\n",
      "   *   *\n",
      "    * *\n",
      "     *\n"
     ]
    }
   ],
   "source": [
    "i=0                 #pattern_26\n",
    "n=5\n",
    "while i<5:\n",
    "    if i==0:\n",
    "        print(\" *\"*(n))\n",
    "    elif i==4:\n",
    "        print(\" \"*i+\" *\")\n",
    "    else:\n",
    "        print(\" \"*(i+1)+\"*\"+\" \"*(((4-i)*2-1))+\"*\")\n",
    "    i=i+1\n",
    "    "
   ]
  },
  {
   "cell_type": "code",
   "execution_count": 185,
   "id": "698a20c0",
   "metadata": {},
   "outputs": [
    {
     "name": "stdout",
     "output_type": "stream",
     "text": [
      "     *\n",
      "    * *\n",
      "   *   *\n",
      "  *     *\n",
      " *       * \n",
      "  *     * \n",
      "   *   * \n",
      "    * * \n",
      "     *\n"
     ]
    }
   ],
   "source": [
    "i=0                               #pattern_27\n",
    "n=9\n",
    "while i<n:\n",
    "    if i==0:\n",
    "        print(\" \"*(n-4)+\"*\")\n",
    "    elif i==1 or i==2 or i==3:\n",
    "        print(\" \"*(4-i)+\" *\"+\" \"*((i*2)-1)+\"*\")\n",
    "    elif i==8:\n",
    "        print(\" \"*(i-3)+\"*\")\n",
    "    else:\n",
    "        print(\" \"*(i-3)+\"*\"+\" \"*((8-i)*2-1)+\"* \")\n",
    "    i=i+1"
   ]
  },
  {
   "cell_type": "code",
   "execution_count": 219,
   "id": "15365e47",
   "metadata": {},
   "outputs": [
    {
     "name": "stdout",
     "output_type": "stream",
     "text": [
      "***** \n",
      "**** \n",
      "*** \n",
      "** \n",
      "* \n",
      "** \n",
      "*** \n",
      "**** \n",
      "***** \n"
     ]
    }
   ],
   "source": [
    "i=0                    #pattern_6\n",
    "n=8\n",
    "while i<=n:\n",
    "    if i==0:\n",
    "        print(\"*\"*(n-3)+\" \")\n",
    "    elif i==1 or i==2 or i==3:\n",
    "        print(\"*\"*(5-i)+\" \")\n",
    "    else:\n",
    "        print(\"*\"*(i-3)+\" \")\n",
    "    i=i+1"
   ]
  },
  {
   "cell_type": "code",
   "execution_count": 218,
   "id": "0398f66a",
   "metadata": {},
   "outputs": [
    {
     "name": "stdout",
     "output_type": "stream",
     "text": [
      "*****\n",
      "*  *\n",
      "* *\n",
      "**\n",
      "*"
     ]
    }
   ],
   "source": [
    "i=0                         #pattern_18\n",
    "n=5             \n",
    "while i<n:\n",
    "    if i==0:\n",
    "        print(\"*\"*(n))\n",
    "    elif i==1 or i==2 or i==3:\n",
    "        print(\"*\"+\" \"*(3-i)+\"*\")\n",
    "    else:\n",
    "        print(\"*\",end=\"\")\n",
    "    i=i+1"
   ]
  },
  {
   "cell_type": "code",
   "execution_count": 2,
   "id": "d7939e9c",
   "metadata": {},
   "outputs": [
    {
     "name": "stdout",
     "output_type": "stream",
     "text": [
      "*\n",
      "**\n",
      "* *\n",
      "*  *\n",
      "*****\n"
     ]
    }
   ],
   "source": [
    "i=1                            #pattern_17\n",
    "x=4\n",
    "while i<=x+1:\n",
    "    if i<=2 or i==5:\n",
    "        print((i)*\"*\")\n",
    "    else:\n",
    "        print(\"*\"+(i-2)*\" \"+\"*\")\n",
    "    i=i+1\n",
    "    "
   ]
  },
  {
   "cell_type": "code",
   "execution_count": 3,
   "id": "ca8d7379",
   "metadata": {},
   "outputs": [
    {
     "name": "stdout",
     "output_type": "stream",
     "text": [
      "*****\n",
      "*  *\n",
      "* *\n",
      "**\n",
      "*"
     ]
    }
   ],
   "source": [
    "i=2                      #pattern_18\n",
    "x=5 \n",
    "while i<=x:\n",
    "    if i==2:\n",
    "        print(x*\"*\")\n",
    "    else:\n",
    "        print((x-i)*\" \"+\"*\")\n",
    "    i=i+1\n",
    "    print(end=\"*\")"
   ]
  },
  {
   "cell_type": "code",
   "execution_count": 50,
   "id": "e9a4fc54",
   "metadata": {
    "scrolled": true
   },
   "outputs": [
    {
     "name": "stdout",
     "output_type": "stream",
     "text": [
      "*        *\n",
      "**      **\n",
      "***    ***\n",
      "****  ****\n",
      "**********\n"
     ]
    }
   ],
   "source": [
    "x=5               #pattern_13\n",
    "i=0\n",
    "while i<x:\n",
    "    j=0\n",
    "    while j<=i:\n",
    "        print(\"*\",end=\"\")\n",
    "        j=j+1\n",
    "    k=(n-i)\n",
    "    while k>1:\n",
    "        print(\" \", end=\"\")\n",
    "        k=k-1\n",
    "    n=x-i\n",
    "    while n>1:\n",
    "        print(\"  \",end=\"\")\n",
    "        n=n-1\n",
    "    m=0\n",
    "    while m<=i:\n",
    "        print(\"*\",end=\"\")\n",
    "        m=m+1\n",
    "        \n",
    "    print(\"\")\n",
    "    i=i+1"
   ]
  },
  {
   "cell_type": "code",
   "execution_count": 80,
   "id": "3b4acf83",
   "metadata": {
    "scrolled": false
   },
   "outputs": [
    {
     "name": "stdout",
     "output_type": "stream",
     "text": [
      "*       *\n",
      "**     **\n",
      "***   ***\n",
      "**** ****\n",
      "*********\n"
     ]
    }
   ],
   "source": [
    "n=-1                            #pattern_13\n",
    "i=7\n",
    "while i>=n:\n",
    "    v=str(i*\" \")\n",
    "    print(v.center(9,\"*\"))\n",
    "    i=i-2"
   ]
  },
  {
   "cell_type": "code",
   "execution_count": 88,
   "id": "2d2aec39",
   "metadata": {},
   "outputs": [
    {
     "name": "stdout",
     "output_type": "stream",
     "text": [
      "*********\n",
      "**** ****\n",
      "***   ***\n",
      "**     **\n",
      "*       *\n"
     ]
    }
   ],
   "source": [
    "n=7                       #pattern_14\n",
    "i=-1\n",
    "while n>=i:\n",
    "    v=str(i*\" \")\n",
    "    print(v.center(9,\"*\"))\n",
    "    i=i+2"
   ]
  },
  {
   "cell_type": "code",
   "execution_count": 13,
   "id": "fcec5887",
   "metadata": {},
   "outputs": [
    {
     "name": "stdout",
     "output_type": "stream",
     "text": [
      "*\n",
      "**\n",
      "***\n",
      "****\n",
      "*****\n",
      "****\n",
      "***\n",
      "**\n",
      "*\n"
     ]
    }
   ],
   "source": [
    "x=9                                        #pattern_5\n",
    "i=1\n",
    "while x>=i:\n",
    "    if i==1 or i==2 or i==3 or i==4:\n",
    "        print((i)*\"*\")\n",
    "    elif i==5 or i==6 or i==7 or i==8 or i==9:\n",
    "        print(\"*\"*(11-(i+1)))\n",
    "    else:\n",
    "        print()\n",
    "    i=i+1"
   ]
  },
  {
   "cell_type": "code",
   "execution_count": 19,
   "id": "870250d7",
   "metadata": {},
   "outputs": [
    {
     "name": "stdout",
     "output_type": "stream",
     "text": [
      "        *\n",
      "       **\n",
      "      ***\n",
      "     ****\n",
      "    *****\n",
      "     ****\n",
      "      ***\n",
      "       **\n",
      "        *\n"
     ]
    }
   ],
   "source": [
    "x=9                                       #pattern_7\n",
    "i=1\n",
    "while x>=i:\n",
    "    if i==1 or i==2 or i==3 or i==4 :\n",
    "        print(\" \"*(x-i)+(i)*\"*\")\n",
    "    elif i==5 or i==6 or i==7 or i==8 or i==9:\n",
    "        print(\" \"*(i-1)+\"*\"*(10-i))\n",
    "    else:\n",
    "        print()\n",
    "    i=i+1"
   ]
  },
  {
   "cell_type": "code",
   "execution_count": 40,
   "id": "f8fc4da9",
   "metadata": {},
   "outputs": [
    {
     "name": "stdout",
     "output_type": "stream",
     "text": [
      "*****\n",
      "*  *\n",
      "* *\n",
      "**\n",
      "*\n",
      "**\n",
      "* *\n",
      "*  *\n",
      "*****\n"
     ]
    }
   ],
   "source": [
    "n=9                                   #pattern_22\n",
    "i=1\n",
    "while i<=n:\n",
    "    if i==2 or i==3 or i==4:\n",
    "        print(\"*\"+\" \"*(n-(i+5))+\"*\")\n",
    "    elif i==1 or i==9:\n",
    "        print(\"*\"*(5))\n",
    "    elif i==5:\n",
    "        print(\"*\")\n",
    "    else:\n",
    "        print(\"*\"+\" \"*(i-6)+\"*\")\n",
    "    i=i+1"
   ]
  },
  {
   "cell_type": "code",
   "execution_count": 78,
   "id": "1b84fe06",
   "metadata": {},
   "outputs": [
    {
     "name": "stdout",
     "output_type": "stream",
     "text": [
      "   *****\n",
      "    *  *\n",
      "     * *\n",
      "      **\n",
      "       *\n",
      "      **\n",
      "     * *\n",
      "    *  *\n",
      "   *****\n"
     ]
    }
   ],
   "source": [
    "n=9                         #pattern_24\n",
    "i=1\n",
    "while i<=n:\n",
    "    if i==2 or i==3 or i==4:\n",
    "        print(\" \"*(i+2)+\"*\"+(4-i)*\" \"+\"*\")\n",
    "    elif i==1:\n",
    "        print(\" \"*(4-i)+\"*\"*(n-4))\n",
    "    elif i==5:\n",
    "        print(\" \"*(7)+\"*\")\n",
    "    elif i==6 or i==7 or i==8:\n",
    "        print(\" \"*(n-(i-3))+\"*\"+\" \"*(i-6)+\"*\")\n",
    "    elif i==9:\n",
    "        print(\" \"*(3)+\"*\"*5)\n",
    "    else:\n",
    "        print()\n",
    "    i=i+1\n",
    "    "
   ]
  },
  {
   "cell_type": "code",
   "execution_count": 102,
   "id": "a5ab6fd1",
   "metadata": {
    "scrolled": true
   },
   "outputs": [
    {
     "name": "stdout",
     "output_type": "stream",
     "text": [
      " *********  \n",
      "  *******   \n",
      "   *****    \n",
      "    ***     \n",
      "     *      \n",
      "    ***     \n",
      "   *****    \n",
      "  *******   \n",
      " *********  \n"
     ]
    }
   ],
   "source": [
    "n=1                                   #pattern_12\n",
    "i=9\n",
    "while i>=n:\n",
    "    v=str(i*\"*\")\n",
    "    print(v.center(12,\" \"))\n",
    "    i=i-2\n",
    "    if i<=-1:\n",
    "        x=10\n",
    "        j=n+2\n",
    "        while j<=x:\n",
    "            y=str(j*\"*\")\n",
    "            print(y.center(12,\" \"))\n",
    "            j=j+2"
   ]
  },
  {
   "cell_type": "code",
   "execution_count": 285,
   "id": "753089ee",
   "metadata": {},
   "outputs": [
    {
     "name": "stdout",
     "output_type": "stream",
     "text": [
      "**********\n",
      " *      *\n",
      "  *    *\n",
      "   *  *\n",
      "     *\n",
      "   *  *\n",
      "  *    *\n",
      " *      *\n",
      "**********\n"
     ]
    }
   ],
   "source": [
    "n=9                                   #pattern_28\n",
    "i=1\n",
    "while i<=n:\n",
    "    if i==1 or i==9:\n",
    "        print(\"*\"*(n+1))\n",
    "    elif i==2 or i==3  or i==4:\n",
    "        print(\" \"*(i-1)+\"*\"+\"  \"*(5-i)+\"*\")\n",
    "    elif i==5:\n",
    "        print(\" \"*(i)+\"*\")\n",
    "    else:\n",
    "        print(\" \"*(n-i)+\"*\"+\"  \"*(i-5)+\"*\")\n",
    "    i=i+1"
   ]
  },
  {
   "cell_type": "code",
   "execution_count": 112,
   "id": "97fc3507",
   "metadata": {},
   "outputs": [
    {
     "name": "stdout",
     "output_type": "stream",
     "text": [
      "*       *\n",
      "**     **\n",
      "***   ***\n",
      "**** ****\n",
      "*********\n",
      "**** ****\n",
      "***   ***\n",
      "**     **\n",
      "*       *\n"
     ]
    }
   ],
   "source": [
    "n=-1                                      #pattern_15\n",
    "i=7\n",
    "while i>=n:\n",
    "    v=str(i*\" \")\n",
    "    print(v.center(9,\"*\"))\n",
    "    i=i-2\n",
    "    if i<=-2:\n",
    "        x=7\n",
    "        j=1\n",
    "        while j<=x:\n",
    "            y=str(j*\" \")\n",
    "            print(y.center(9,\"*\"))\n",
    "            j=j+2"
   ]
  },
  {
   "cell_type": "code",
   "execution_count": 1,
   "id": "d2865597",
   "metadata": {},
   "outputs": [
    {
     "name": "stdout",
     "output_type": "stream",
     "text": [
      "*********\n",
      "**** ****\n",
      "***   ***\n",
      "**     **\n",
      "*       *\n",
      "*       *\n",
      "**     **\n",
      "***   ***\n",
      "**** ****\n",
      "*********\n"
     ]
    }
   ],
   "source": [
    "n=7                          #pattern_16\n",
    "i=-1\n",
    "while i<=n:\n",
    "    v=str(i*\" \")\n",
    "    print(v.center(9,\"*\"))\n",
    "    i=i+2\n",
    "    if i==9:\n",
    "        j=7\n",
    "        x=-1\n",
    "        while j>=x:\n",
    "            y=str(j*\" \")\n",
    "            print(y.center(9,\"*\"))\n",
    "            j=j-2"
   ]
  },
  {
   "cell_type": "code",
   "execution_count": 104,
   "id": "86e4ee2b",
   "metadata": {},
   "outputs": [
    {
     "name": "stdout",
     "output_type": "stream",
     "text": [
      "**********\n",
      "****  ****\n",
      "***    ***\n",
      "**      **\n",
      "*        *\n",
      "*        *\n",
      "**      **\n",
      "***    ***\n",
      "****  ****\n",
      "**********\n"
     ]
    }
   ],
   "source": [
    "n=10                              #pattern_16\n",
    "i=1\n",
    "while i<=n:\n",
    "    if i==1 or i==10:\n",
    "        print(\"*\"*(n))\n",
    "    elif i==1 or i==2 or i==3 or i==4 or i==5:\n",
    "        print(\"*\"*((n-4)-i)+\"  \"*(i-1)+\"*\"*(6-i))\n",
    "    else:\n",
    "        print(\"*\"*(i-5)+\"  \"*(n-i)+\"*\"*(i-5))\n",
    "    i=i+1"
   ]
  },
  {
   "cell_type": "code",
   "execution_count": 3,
   "id": "632e7f77",
   "metadata": {},
   "outputs": [
    {
     "name": "stdout",
     "output_type": "stream",
     "text": [
      "*****\n",
      "*****\n",
      "*****\n",
      "*****\n"
     ]
    }
   ],
   "source": [
    "n=5                      #pattern_29             \n",
    "i=1\n",
    "while i<=n:\n",
    "    if i<5:\n",
    "        print(\"*\"*n)\n",
    "    i=i+1"
   ]
  },
  {
   "cell_type": "code",
   "execution_count": null,
   "id": "16c3d4f1",
   "metadata": {},
   "outputs": [],
   "source": []
  }
 ],
 "metadata": {
  "hide_input": false,
  "kernelspec": {
   "display_name": "Python 3 (ipykernel)",
   "language": "python",
   "name": "python3"
  },
  "language_info": {
   "codemirror_mode": {
    "name": "ipython",
    "version": 3
   },
   "file_extension": ".py",
   "mimetype": "text/x-python",
   "name": "python",
   "nbconvert_exporter": "python",
   "pygments_lexer": "ipython3",
   "version": "3.9.12"
  },
  "toc": {
   "base_numbering": 1,
   "nav_menu": {},
   "number_sections": true,
   "sideBar": true,
   "skip_h1_title": false,
   "title_cell": "Table of Contents",
   "title_sidebar": "Contents",
   "toc_cell": false,
   "toc_position": {},
   "toc_section_display": true,
   "toc_window_display": false
  }
 },
 "nbformat": 4,
 "nbformat_minor": 5
}
